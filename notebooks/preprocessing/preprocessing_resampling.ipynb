{
 "cells": [
  {
   "cell_type": "code",
   "execution_count": 15,
   "metadata": {
    "collapsed": true
   },
   "outputs": [],
   "source": [
    "import pandas as pd\n",
    "import numpy as np\n",
    "import skimage\n",
    "import matplotlib.pyplot as plt\n",
    "%matplotlib inline"
   ]
  },
  {
   "cell_type": "code",
   "execution_count": 16,
   "metadata": {
    "collapsed": false
   },
   "outputs": [],
   "source": [
    "from skimage.io import imread, imsave"
   ]
  },
  {
   "cell_type": "code",
   "execution_count": 17,
   "metadata": {
    "collapsed": true
   },
   "outputs": [],
   "source": [
    "import os"
   ]
  },
  {
   "cell_type": "code",
   "execution_count": 4,
   "metadata": {
    "collapsed": true
   },
   "outputs": [],
   "source": [
    "data_folder = '../data'\n",
    "images_folder = os.path.join(data_folder,'roof_images')\n",
    "ids = pd.read_csv('../data/id_train.csv')"
   ]
  },
  {
   "cell_type": "code",
   "execution_count": 5,
   "metadata": {
    "collapsed": false
   },
   "outputs": [],
   "source": [
    "import helpers as H\n",
    "reload(H)\n",
    "H.images_folder = images_folder"
   ]
  },
  {
   "cell_type": "code",
   "execution_count": 6,
   "metadata": {
    "collapsed": true
   },
   "outputs": [],
   "source": [
    "from skimage.transform import rotate"
   ]
  },
  {
   "cell_type": "code",
   "execution_count": 7,
   "metadata": {
    "collapsed": false
   },
   "outputs": [
    {
     "data": {
      "text/plain": [
       "<matplotlib.axes._subplots.AxesSubplot at 0x2b12f672b610>"
      ]
     },
     "execution_count": 7,
     "metadata": {},
     "output_type": "execute_result"
    },
    {
     "data": {
      "image/png": "[encoded data removed]",
      "text/plain": [
       "<matplotlib.figure.Figure at 0x2b12f672b090>"
      ]
     },
     "metadata": {},
     "output_type": "display_data"
    }
   ],
   "source": [
    "ids['label'].hist()"
   ]
  },
  {
   "cell_type": "code",
   "execution_count": null,
   "metadata": {
    "collapsed": true
   },
   "outputs": [],
   "source": []
  },
  {
   "cell_type": "code",
   "execution_count": 8,
   "metadata": {
    "collapsed": false
   },
   "outputs": [],
   "source": [
    "extension = '.bmp'\n",
    "open_image_id = H.open_image_id\n",
    "\n",
    "def resample_cls1(Id, resample_folder):\n",
    "    img = open_image_id(Id)\n",
    "    imsave(os.path.join(resample_folder,str(Id)+extension), img)\n",
    "    return None\n",
    "    \n",
    "def resample_cls2(Id, resample_folder):\n",
    "    img_name = str(Id)\n",
    "    img = open_image_id(Id)\n",
    "    imsave(os.path.join(resample_folder,img_name+extension), img)\n",
    "    #flip\n",
    "    rot_ang = 180\n",
    "    img2 = rotate(img,rot_ang,resize=True)\n",
    "    img2_name = img_name+'_'+str(rot_ang)\n",
    "    imsave(os.path.join(resample_folder,img2_name+extension), img2)    \n",
    "    return [img2_name]\n",
    "\n",
    "def resample_cls4(Id, resample_folder):\n",
    "    img_name = str(Id)\n",
    "    img = open_image_id(Id)\n",
    "    imsave(os.path.join(resample_folder,img_name+extension), img)\n",
    "    #rotate 90, 180, 270\n",
    "    r_int = np.random.randint(2)+1\n",
    "    rot_ang = 90 * r_int\n",
    "    img2 = rotate(img,rot_ang,resize=True)\n",
    "    img2_name = img_name+'_'+str(rot_ang)\n",
    "    imsave(os.path.join(resample_folder,img2_name+extension), img2)    \n",
    "    return [img2_name]\n",
    "\n",
    "def resample_cls3(Id, resample_folder):\n",
    "    img_name = str(Id)\n",
    "    img = open_image_id(Id)\n",
    "    imsave(os.path.join(resample_folder,img_name+extension), img)\n",
    "    #rotate 90, 180, 270\n",
    "    img2_names = []\n",
    "    angles = [90,180,270]\n",
    "    for rot_ang in angles:\n",
    "        img2 = rotate(img,rot_ang,resize=True)\n",
    "        img2_name = img_name+'_'+str(rot_ang)\n",
    "        imsave(os.path.join(resample_folder,img2_name+extension), img2)  \n",
    "        img2_names.append(img2_name)\n",
    "    return img2_names\n",
    "    \n",
    "sampler = {\n",
    "    '1': resample_cls1,\n",
    "    '2':resample_cls2,\n",
    "    '3':resample_cls3,\n",
    "    '4': resample_cls4,\n",
    "}"
   ]
  },
  {
   "cell_type": "code",
   "execution_count": null,
   "metadata": {
    "collapsed": true
   },
   "outputs": [],
   "source": []
  },
  {
   "cell_type": "code",
   "execution_count": 9,
   "metadata": {
    "collapsed": true
   },
   "outputs": [],
   "source": [
    "def resample_all(data_folder, images_folder, df):\n",
    "    resample_folder = os.path.join(data_folder,'resampled')\n",
    "    if not os.path.exists(resample_folder):\n",
    "        os.makedirs(resample_folder)\n",
    "    new_samples = {'Id':[],'label':[]}\n",
    "    for ind, (Id, label) in df.iterrows():\n",
    "        new_sample_ids = sampler[str(label)](Id, resample_folder)\n",
    "        if new_sample_ids!= None:\n",
    "            new_samples['Id'] += new_sample_ids\n",
    "            new_samples['label'] += len(new_sample_ids)*[label]\n",
    "    return new_samples"
   ]
  },
  {
   "cell_type": "code",
   "execution_count": 10,
   "metadata": {
    "collapsed": false
   },
   "outputs": [
    {
     "name": "stderr",
     "output_type": "stream",
     "text": [
      "/net/software/local/python/2.7.9/lib/python2.7/site-packages/skimage/util/dtype.py:111: UserWarning: Possible precision loss when converting from float64 to uint8\n",
      "  \"%s to %s\" % (dtypeobj_in, dtypeobj))\n"
     ]
    }
   ],
   "source": [
    "new_samples = resample_all(data_folder,images_folder, ids)"
   ]
  },
  {
   "cell_type": "code",
   "execution_count": 11,
   "metadata": {
    "collapsed": false
   },
   "outputs": [],
   "source": [
    "new_samples_df = ids.append(pd.DataFrame(new_samples), ignore_index=True)"
   ]
  },
  {
   "cell_type": "code",
   "execution_count": 12,
   "metadata": {
    "collapsed": false
   },
   "outputs": [
    {
     "data": {
      "text/html": [
       "<div>\n",
       "<table border=\"1\" class=\"dataframe\">\n",
       "  <thead>\n",
       "    <tr style=\"text-align: right;\">\n",
       "      <th></th>\n",
       "      <th>Id</th>\n",
       "      <th>label</th>\n",
       "    </tr>\n",
       "  </thead>\n",
       "  <tbody>\n",
       "    <tr>\n",
       "      <th>14229</th>\n",
       "      <td>132244354_90</td>\n",
       "      <td>4</td>\n",
       "    </tr>\n",
       "    <tr>\n",
       "      <th>14230</th>\n",
       "      <td>132245662_180</td>\n",
       "      <td>2</td>\n",
       "    </tr>\n",
       "    <tr>\n",
       "      <th>14231</th>\n",
       "      <td>132245750_180</td>\n",
       "      <td>2</td>\n",
       "    </tr>\n",
       "    <tr>\n",
       "      <th>14232</th>\n",
       "      <td>132245760_180</td>\n",
       "      <td>2</td>\n",
       "    </tr>\n",
       "    <tr>\n",
       "      <th>14233</th>\n",
       "      <td>132245832_180</td>\n",
       "      <td>2</td>\n",
       "    </tr>\n",
       "    <tr>\n",
       "      <th>14234</th>\n",
       "      <td>132245951_90</td>\n",
       "      <td>4</td>\n",
       "    </tr>\n",
       "    <tr>\n",
       "      <th>14235</th>\n",
       "      <td>132245952_180</td>\n",
       "      <td>2</td>\n",
       "    </tr>\n",
       "    <tr>\n",
       "      <th>14236</th>\n",
       "      <td>132246203_180</td>\n",
       "      <td>2</td>\n",
       "    </tr>\n",
       "    <tr>\n",
       "      <th>14237</th>\n",
       "      <td>132246237_180</td>\n",
       "      <td>2</td>\n",
       "    </tr>\n",
       "    <tr>\n",
       "      <th>14238</th>\n",
       "      <td>132246252_180</td>\n",
       "      <td>2</td>\n",
       "    </tr>\n",
       "  </tbody>\n",
       "</table>\n",
       "</div>"
      ],
      "text/plain": [
       "                  Id  label\n",
       "14229   132244354_90      4\n",
       "14230  132245662_180      2\n",
       "14231  132245750_180      2\n",
       "14232  132245760_180      2\n",
       "14233  132245832_180      2\n",
       "14234   132245951_90      4\n",
       "14235  132245952_180      2\n",
       "14236  132246203_180      2\n",
       "14237  132246237_180      2\n",
       "14238  132246252_180      2"
      ]
     },
     "execution_count": 12,
     "metadata": {},
     "output_type": "execute_result"
    }
   ],
   "source": [
    "new_samples_df[-10:]"
   ]
  },
  {
   "cell_type": "code",
   "execution_count": 13,
   "metadata": {
    "collapsed": false
   },
   "outputs": [
    {
     "data": {
      "text/plain": [
       "<matplotlib.axes._subplots.AxesSubplot at 0x2b12f6fff410>"
      ]
     },
     "execution_count": 13,
     "metadata": {},
     "output_type": "execute_result"
    },
    {
     "data": {
      "image/png": "[encoded data removed]",
      "text/plain": [
       "<matplotlib.figure.Figure at 0x2b12fa206610>"
      ]
     },
     "metadata": {},
     "output_type": "display_data"
    }
   ],
   "source": [
    "new_samples_df['label'].hist()"
   ]
  },
  {
   "cell_type": "code",
   "execution_count": 14,
   "metadata": {
    "collapsed": false
   },
   "outputs": [],
   "source": [
    "new_samples_df.to_csv(os.path.join(data_folder,'id_train_resampled.csv'),index=False)"
   ]
  },
  {
   "cell_type": "code",
   "execution_count": null,
   "metadata": {
    "collapsed": true
   },
   "outputs": [],
   "source": []
  }
 ],
 "metadata": {
  "kernelspec": {
   "display_name": "Python 2",
   "language": "python",
   "name": "python2"
  },
  "language_info": {
   "codemirror_mode": {
    "name": "ipython",
    "version": 2
   },
   "file_extension": ".py",
   "mimetype": "text/x-python",
   "name": "python",
   "nbconvert_exporter": "python",
   "pygments_lexer": "ipython2",
   "version": "2.7.9"
  }
 },
 "nbformat": 4,
 "nbformat_minor": 0
}
